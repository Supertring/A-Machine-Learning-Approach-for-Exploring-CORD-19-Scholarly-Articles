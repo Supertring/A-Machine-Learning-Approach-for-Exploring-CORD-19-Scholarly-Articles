{
 "cells": [
  {
   "cell_type": "markdown",
   "metadata": {},
   "source": [
    "__Orignial Datasets__\n",
    "* Total article  = over 200,000\n",
    "* With full text = over 100,000\n",
    "* About          = COVID-19, SARS-CoV2 and related corona virus\n",
    "\n",
    "__column for clustering__\n",
    "* title : 341563\n",
    "* abstract: 243898\n",
    "* pcm_json_files: 93581\n",
    "\n",
    "__Due to computational power we use__\n",
    "* Total article = approax. 10560 samples\n",
    "\n",
    "__Data Source__\n",
    "* Prepared by Allen Institute for AI\n",
    "* url: https://www.semanticscholar.org/cord19/download"
   ]
  },
  {
   "cell_type": "code",
   "execution_count": 37,
   "metadata": {},
   "outputs": [],
   "source": [
    "import pandas as pd\n",
    "import json\n",
    "import csv\n",
    "import os\n",
    "from os import path\n",
    "import time\n",
    "from IPython.display import clear_output\n",
    "import datetime\n",
    "import spacy\n",
    "from spacy.lang.en.stop_words import STOP_WORDS\n",
    "import re\n",
    "from tqdm import tqdm\n",
    "import scispacy\n",
    "import en_core_sci_lg\n",
    "tqdm.pandas()\n",
    "import string\n",
    "import seaborn as sn\n",
    "import matplotlib.pyplot as plt\n",
    "from spacy_langdetect import LanguageDetector"
   ]
  },
  {
   "cell_type": "markdown",
   "metadata": {},
   "source": [
    "__Read metadata__\n",
    "* ___metadata.csv___ : contains information about data\n",
    "* ___dataframe___ : read csv to dataframe"
   ]
  },
  {
   "cell_type": "code",
   "execution_count": 3,
   "metadata": {},
   "outputs": [],
   "source": [
    "#read csv file\n",
    "dataframe = pd.read_csv('../../datasets/metadata.csv', low_memory=False)"
   ]
  },
  {
   "cell_type": "markdown",
   "metadata": {},
   "source": [
    "__Metadata information__"
   ]
  },
  {
   "cell_type": "code",
   "execution_count": 4,
   "metadata": {
    "scrolled": true
   },
   "outputs": [
    {
     "name": "stdout",
     "output_type": "stream",
     "text": [
      "<class 'pandas.core.frame.DataFrame'>\n",
      "RangeIndex: 341713 entries, 0 to 341712\n",
      "Data columns (total 19 columns):\n",
      " #   Column            Non-Null Count   Dtype  \n",
      "---  ------            --------------   -----  \n",
      " 0   cord_uid          341713 non-null  object \n",
      " 1   sha               121365 non-null  object \n",
      " 2   source_x          341713 non-null  object \n",
      " 3   title             341563 non-null  object \n",
      " 4   doi               204180 non-null  object \n",
      " 5   pmcid             127340 non-null  object \n",
      " 6   pubmed_id         179342 non-null  object \n",
      " 7   license           341713 non-null  object \n",
      " 8   abstract          243898 non-null  object \n",
      " 9   publish_time      341370 non-null  object \n",
      " 10  authors           330566 non-null  object \n",
      " 11  journal           320729 non-null  object \n",
      " 12  mag_id            0 non-null       float64\n",
      " 13  who_covidence_id  121970 non-null  object \n",
      " 14  arxiv_id          4447 non-null    object \n",
      " 15  pdf_json_files    121365 non-null  object \n",
      " 16  pmc_json_files    93581 non-null   object \n",
      " 17  url               221145 non-null  object \n",
      " 18  s2_id             306748 non-null  float64\n",
      "dtypes: float64(2), object(17)\n",
      "memory usage: 49.5+ MB\n"
     ]
    }
   ],
   "source": [
    "dataframe.info()"
   ]
  },
  {
   "cell_type": "code",
   "execution_count": 5,
   "metadata": {},
   "outputs": [
    {
     "data": {
      "text/html": [
       "<div>\n",
       "<style scoped>\n",
       "    .dataframe tbody tr th:only-of-type {\n",
       "        vertical-align: middle;\n",
       "    }\n",
       "\n",
       "    .dataframe tbody tr th {\n",
       "        vertical-align: top;\n",
       "    }\n",
       "\n",
       "    .dataframe thead th {\n",
       "        text-align: right;\n",
       "    }\n",
       "</style>\n",
       "<table border=\"1\" class=\"dataframe\">\n",
       "  <thead>\n",
       "    <tr style=\"text-align: right;\">\n",
       "      <th></th>\n",
       "      <th>cord_uid</th>\n",
       "      <th>sha</th>\n",
       "      <th>source_x</th>\n",
       "      <th>title</th>\n",
       "      <th>doi</th>\n",
       "      <th>pmcid</th>\n",
       "      <th>pubmed_id</th>\n",
       "      <th>license</th>\n",
       "      <th>abstract</th>\n",
       "      <th>publish_time</th>\n",
       "      <th>authors</th>\n",
       "      <th>journal</th>\n",
       "      <th>mag_id</th>\n",
       "      <th>who_covidence_id</th>\n",
       "      <th>arxiv_id</th>\n",
       "      <th>pdf_json_files</th>\n",
       "      <th>pmc_json_files</th>\n",
       "      <th>url</th>\n",
       "      <th>s2_id</th>\n",
       "    </tr>\n",
       "  </thead>\n",
       "  <tbody>\n",
       "    <tr>\n",
       "      <th>0</th>\n",
       "      <td>ug7v899j</td>\n",
       "      <td>d1aafb70c066a2068b02786f8929fd9c900897fb</td>\n",
       "      <td>PMC</td>\n",
       "      <td>Clinical features of culture-proven Mycoplasma...</td>\n",
       "      <td>10.1186/1471-2334-1-6</td>\n",
       "      <td>PMC35282</td>\n",
       "      <td>11472636</td>\n",
       "      <td>no-cc</td>\n",
       "      <td>OBJECTIVE: This retrospective chart review des...</td>\n",
       "      <td>2001-07-04</td>\n",
       "      <td>Madani, Tariq A; Al-Ghamdi, Aisha A</td>\n",
       "      <td>BMC Infect Dis</td>\n",
       "      <td>NaN</td>\n",
       "      <td>NaN</td>\n",
       "      <td>NaN</td>\n",
       "      <td>document_parses/pdf_json/d1aafb70c066a2068b027...</td>\n",
       "      <td>document_parses/pmc_json/PMC35282.xml.json</td>\n",
       "      <td>https://www.ncbi.nlm.nih.gov/pmc/articles/PMC3...</td>\n",
       "      <td>NaN</td>\n",
       "    </tr>\n",
       "    <tr>\n",
       "      <th>1</th>\n",
       "      <td>02tnwd4m</td>\n",
       "      <td>6b0567729c2143a66d737eb0a2f63f2dce2e5a7d</td>\n",
       "      <td>PMC</td>\n",
       "      <td>Nitric oxide: a pro-inflammatory mediator in l...</td>\n",
       "      <td>10.1186/rr14</td>\n",
       "      <td>PMC59543</td>\n",
       "      <td>11667967</td>\n",
       "      <td>no-cc</td>\n",
       "      <td>Inflammatory diseases of the respiratory tract...</td>\n",
       "      <td>2000-08-15</td>\n",
       "      <td>Vliet, Albert van der; Eiserich, Jason P; Cros...</td>\n",
       "      <td>Respir Res</td>\n",
       "      <td>NaN</td>\n",
       "      <td>NaN</td>\n",
       "      <td>NaN</td>\n",
       "      <td>document_parses/pdf_json/6b0567729c2143a66d737...</td>\n",
       "      <td>document_parses/pmc_json/PMC59543.xml.json</td>\n",
       "      <td>https://www.ncbi.nlm.nih.gov/pmc/articles/PMC5...</td>\n",
       "      <td>NaN</td>\n",
       "    </tr>\n",
       "    <tr>\n",
       "      <th>2</th>\n",
       "      <td>ejv2xln0</td>\n",
       "      <td>06ced00a5fc04215949aa72528f2eeaae1d58927</td>\n",
       "      <td>PMC</td>\n",
       "      <td>Surfactant protein-D and pulmonary host defense</td>\n",
       "      <td>10.1186/rr19</td>\n",
       "      <td>PMC59549</td>\n",
       "      <td>11667972</td>\n",
       "      <td>no-cc</td>\n",
       "      <td>Surfactant protein-D (SP-D) participates in th...</td>\n",
       "      <td>2000-08-25</td>\n",
       "      <td>Crouch, Erika C</td>\n",
       "      <td>Respir Res</td>\n",
       "      <td>NaN</td>\n",
       "      <td>NaN</td>\n",
       "      <td>NaN</td>\n",
       "      <td>document_parses/pdf_json/06ced00a5fc04215949aa...</td>\n",
       "      <td>document_parses/pmc_json/PMC59549.xml.json</td>\n",
       "      <td>https://www.ncbi.nlm.nih.gov/pmc/articles/PMC5...</td>\n",
       "      <td>NaN</td>\n",
       "    </tr>\n",
       "    <tr>\n",
       "      <th>3</th>\n",
       "      <td>2b73a28n</td>\n",
       "      <td>348055649b6b8cf2b9a376498df9bf41f7123605</td>\n",
       "      <td>PMC</td>\n",
       "      <td>Role of endothelin-1 in lung disease</td>\n",
       "      <td>10.1186/rr44</td>\n",
       "      <td>PMC59574</td>\n",
       "      <td>11686871</td>\n",
       "      <td>no-cc</td>\n",
       "      <td>Endothelin-1 (ET-1) is a 21 amino acid peptide...</td>\n",
       "      <td>2001-02-22</td>\n",
       "      <td>Fagan, Karen A; McMurtry, Ivan F; Rodman, David M</td>\n",
       "      <td>Respir Res</td>\n",
       "      <td>NaN</td>\n",
       "      <td>NaN</td>\n",
       "      <td>NaN</td>\n",
       "      <td>document_parses/pdf_json/348055649b6b8cf2b9a37...</td>\n",
       "      <td>document_parses/pmc_json/PMC59574.xml.json</td>\n",
       "      <td>https://www.ncbi.nlm.nih.gov/pmc/articles/PMC5...</td>\n",
       "      <td>NaN</td>\n",
       "    </tr>\n",
       "    <tr>\n",
       "      <th>4</th>\n",
       "      <td>9785vg6d</td>\n",
       "      <td>5f48792a5fa08bed9f56016f4981ae2ca6031b32</td>\n",
       "      <td>PMC</td>\n",
       "      <td>Gene expression in epithelial cells in respons...</td>\n",
       "      <td>10.1186/rr61</td>\n",
       "      <td>PMC59580</td>\n",
       "      <td>11686888</td>\n",
       "      <td>no-cc</td>\n",
       "      <td>Respiratory syncytial virus (RSV) and pneumoni...</td>\n",
       "      <td>2001-05-11</td>\n",
       "      <td>Domachowske, Joseph B; Bonville, Cynthia A; Ro...</td>\n",
       "      <td>Respir Res</td>\n",
       "      <td>NaN</td>\n",
       "      <td>NaN</td>\n",
       "      <td>NaN</td>\n",
       "      <td>document_parses/pdf_json/5f48792a5fa08bed9f560...</td>\n",
       "      <td>document_parses/pmc_json/PMC59580.xml.json</td>\n",
       "      <td>https://www.ncbi.nlm.nih.gov/pmc/articles/PMC5...</td>\n",
       "      <td>NaN</td>\n",
       "    </tr>\n",
       "  </tbody>\n",
       "</table>\n",
       "</div>"
      ],
      "text/plain": [
       "   cord_uid                                       sha source_x  \\\n",
       "0  ug7v899j  d1aafb70c066a2068b02786f8929fd9c900897fb      PMC   \n",
       "1  02tnwd4m  6b0567729c2143a66d737eb0a2f63f2dce2e5a7d      PMC   \n",
       "2  ejv2xln0  06ced00a5fc04215949aa72528f2eeaae1d58927      PMC   \n",
       "3  2b73a28n  348055649b6b8cf2b9a376498df9bf41f7123605      PMC   \n",
       "4  9785vg6d  5f48792a5fa08bed9f56016f4981ae2ca6031b32      PMC   \n",
       "\n",
       "                                               title                    doi  \\\n",
       "0  Clinical features of culture-proven Mycoplasma...  10.1186/1471-2334-1-6   \n",
       "1  Nitric oxide: a pro-inflammatory mediator in l...           10.1186/rr14   \n",
       "2    Surfactant protein-D and pulmonary host defense           10.1186/rr19   \n",
       "3               Role of endothelin-1 in lung disease           10.1186/rr44   \n",
       "4  Gene expression in epithelial cells in respons...           10.1186/rr61   \n",
       "\n",
       "      pmcid pubmed_id license  \\\n",
       "0  PMC35282  11472636   no-cc   \n",
       "1  PMC59543  11667967   no-cc   \n",
       "2  PMC59549  11667972   no-cc   \n",
       "3  PMC59574  11686871   no-cc   \n",
       "4  PMC59580  11686888   no-cc   \n",
       "\n",
       "                                            abstract publish_time  \\\n",
       "0  OBJECTIVE: This retrospective chart review des...   2001-07-04   \n",
       "1  Inflammatory diseases of the respiratory tract...   2000-08-15   \n",
       "2  Surfactant protein-D (SP-D) participates in th...   2000-08-25   \n",
       "3  Endothelin-1 (ET-1) is a 21 amino acid peptide...   2001-02-22   \n",
       "4  Respiratory syncytial virus (RSV) and pneumoni...   2001-05-11   \n",
       "\n",
       "                                             authors         journal  mag_id  \\\n",
       "0                Madani, Tariq A; Al-Ghamdi, Aisha A  BMC Infect Dis     NaN   \n",
       "1  Vliet, Albert van der; Eiserich, Jason P; Cros...      Respir Res     NaN   \n",
       "2                                    Crouch, Erika C      Respir Res     NaN   \n",
       "3  Fagan, Karen A; McMurtry, Ivan F; Rodman, David M      Respir Res     NaN   \n",
       "4  Domachowske, Joseph B; Bonville, Cynthia A; Ro...      Respir Res     NaN   \n",
       "\n",
       "  who_covidence_id arxiv_id  \\\n",
       "0              NaN      NaN   \n",
       "1              NaN      NaN   \n",
       "2              NaN      NaN   \n",
       "3              NaN      NaN   \n",
       "4              NaN      NaN   \n",
       "\n",
       "                                      pdf_json_files  \\\n",
       "0  document_parses/pdf_json/d1aafb70c066a2068b027...   \n",
       "1  document_parses/pdf_json/6b0567729c2143a66d737...   \n",
       "2  document_parses/pdf_json/06ced00a5fc04215949aa...   \n",
       "3  document_parses/pdf_json/348055649b6b8cf2b9a37...   \n",
       "4  document_parses/pdf_json/5f48792a5fa08bed9f560...   \n",
       "\n",
       "                               pmc_json_files  \\\n",
       "0  document_parses/pmc_json/PMC35282.xml.json   \n",
       "1  document_parses/pmc_json/PMC59543.xml.json   \n",
       "2  document_parses/pmc_json/PMC59549.xml.json   \n",
       "3  document_parses/pmc_json/PMC59574.xml.json   \n",
       "4  document_parses/pmc_json/PMC59580.xml.json   \n",
       "\n",
       "                                                 url  s2_id  \n",
       "0  https://www.ncbi.nlm.nih.gov/pmc/articles/PMC3...    NaN  \n",
       "1  https://www.ncbi.nlm.nih.gov/pmc/articles/PMC5...    NaN  \n",
       "2  https://www.ncbi.nlm.nih.gov/pmc/articles/PMC5...    NaN  \n",
       "3  https://www.ncbi.nlm.nih.gov/pmc/articles/PMC5...    NaN  \n",
       "4  https://www.ncbi.nlm.nih.gov/pmc/articles/PMC5...    NaN  "
      ]
     },
     "execution_count": 5,
     "metadata": {},
     "output_type": "execute_result"
    }
   ],
   "source": [
    "dataframe.head()"
   ]
  },
  {
   "cell_type": "markdown",
   "metadata": {},
   "source": [
    "__Drop the rows that are null corresponding to columns given below__\n",
    "* ___title___\n",
    "* ___abstract___\n",
    "* ___pmc_json_files___\n",
    "\n",
    "__The not null data can be used for clustering__\n",
    "* ___cluster_data___: contains not null dataframe with respect to above given columns"
   ]
  },
  {
   "cell_type": "code",
   "execution_count": 7,
   "metadata": {},
   "outputs": [],
   "source": [
    "cluster_data = dataframe.dropna(subset=['title','abstract','pmc_json_files'])"
   ]
  },
  {
   "cell_type": "markdown",
   "metadata": {},
   "source": [
    "__Metadata information__"
   ]
  },
  {
   "cell_type": "code",
   "execution_count": 8,
   "metadata": {},
   "outputs": [
    {
     "name": "stdout",
     "output_type": "stream",
     "text": [
      "<class 'pandas.core.frame.DataFrame'>\n",
      "Int64Index: 75313 entries, 0 to 341712\n",
      "Data columns (total 19 columns):\n",
      " #   Column            Non-Null Count  Dtype  \n",
      "---  ------            --------------  -----  \n",
      " 0   cord_uid          75313 non-null  object \n",
      " 1   sha               73203 non-null  object \n",
      " 2   source_x          75313 non-null  object \n",
      " 3   title             75313 non-null  object \n",
      " 4   doi               75075 non-null  object \n",
      " 5   pmcid             75313 non-null  object \n",
      " 6   pubmed_id         65748 non-null  object \n",
      " 7   license           75313 non-null  object \n",
      " 8   abstract          75313 non-null  object \n",
      " 9   publish_time      75313 non-null  object \n",
      " 10  authors           75147 non-null  object \n",
      " 11  journal           74834 non-null  object \n",
      " 12  mag_id            0 non-null      float64\n",
      " 13  who_covidence_id  0 non-null      object \n",
      " 14  arxiv_id          181 non-null    object \n",
      " 15  pdf_json_files    73203 non-null  object \n",
      " 16  pmc_json_files    75313 non-null  object \n",
      " 17  url               75313 non-null  object \n",
      " 18  s2_id             58919 non-null  float64\n",
      "dtypes: float64(2), object(17)\n",
      "memory usage: 11.5+ MB\n"
     ]
    }
   ],
   "source": [
    "cluster_data.info()"
   ]
  },
  {
   "cell_type": "markdown",
   "metadata": {},
   "source": [
    "__Get full literature__\n",
    "* Meatadata contains information about datasets\n",
    "* Need to grab full literature from the json files\n",
    "* ___pmc_json_files___ : contains file name of the full literature provided in json file format.\n",
    "\n",
    "__Get the important columns from the meatadata__\n",
    "* only keep the important columns from metadata\n",
    "\n",
    "__Export the dataframe to new csv file__\n",
    "* ___covid19_data.csv___ : export new dataframe with full literature to the csv file\n",
    "* ___full_literature___ : column contains full literature"
   ]
  },
  {
   "cell_type": "code",
   "execution_count": 9,
   "metadata": {},
   "outputs": [
    {
     "name": "stdout",
     "output_type": "stream",
     "text": [
      "No.: 75313\n",
      "Working on file : ../../datasets/document_parses/pmc_json/PMC7447529.xml.json\n",
      "Time taken/file : 0.004443168640136719\n",
      "Total duration : 0:07:48.033472\n"
     ]
    }
   ],
   "source": [
    "\n",
    "total_time = 0\n",
    "count=0\n",
    "for index, c_data in cluster_data.iterrows():\n",
    "    data_to_write = pd.DataFrame()\n",
    "    all_text = \"\"\n",
    "    start = time.time()\n",
    "    print(c_data['pmc_json_files'])\n",
    "    file_path = '../../datasets/'+c_data['pmc_json_files']\n",
    "    json_file = open(file_path)\n",
    "    json_data = json.load(json_file)\n",
    "    for i in json_data['body_text']:\n",
    "        all_text = all_text + i['text']\n",
    "        \n",
    "    data_to_write = pd.DataFrame({\"cord_uid\":c_data['cord_uid'],\n",
    "                                  \"sha\": c_data['sha'],\n",
    "                                  \"title\" : c_data['title'],\n",
    "                                  \"doi\":c_data['doi'],\n",
    "                                  \"pmcid\":c_data['pmcid'],\n",
    "                                  \"pubmed_id\":c_data['pubmed_id'],\n",
    "                                  \"abstract\":c_data['abstract'],\n",
    "                                  \"publish_time\":c_data['publish_time'],\n",
    "                                  \"authors\":c_data['authors'],\n",
    "                                  \"journal\":c_data['journal'],\n",
    "                                  \"pmc_json_files\":c_data['pmc_json_files'],\n",
    "                                  \"url\":c_data['url'],\n",
    "                                  \"full_literature\":[all_text]})\n",
    "    \n",
    "    if not os.path.isfile('covid19_data.csv'):\n",
    "       data_to_write.to_csv('covid19_data.csv', header='column_names', index=False)\n",
    "    else:\n",
    "       data_to_write.to_csv('covid19_data.csv', mode='a', header=False, index=False)    \n",
    "    \n",
    "    stop = time.time()\n",
    "    duration = stop-start\n",
    "    total_time = total_time + duration\n",
    "    time_taken = str(datetime.timedelta(seconds=total_time))\n",
    "    count=count+1\n",
    "    clear_output(wait=True)\n",
    "    print(\"No.:\",count)\n",
    "    print(\"Working on file :\",file_path)\n",
    "    print(\"Time taken/file :\",duration)\n",
    "    print(\"Total duration :\",time_taken)"
   ]
  },
  {
   "cell_type": "markdown",
   "metadata": {},
   "source": [
    "__Read the newly created csv file for pre processing__"
   ]
  },
  {
   "cell_type": "code",
   "execution_count": 2,
   "metadata": {},
   "outputs": [],
   "source": [
    "covid = pd.read_csv('covid19_data.csv', low_memory=False)"
   ]
  },
  {
   "cell_type": "code",
   "execution_count": 3,
   "metadata": {},
   "outputs": [
    {
     "name": "stdout",
     "output_type": "stream",
     "text": [
      "<class 'pandas.core.frame.DataFrame'>\n",
      "RangeIndex: 75313 entries, 0 to 75312\n",
      "Data columns (total 13 columns):\n",
      " #   Column           Non-Null Count  Dtype \n",
      "---  ------           --------------  ----- \n",
      " 0   cord_uid         75313 non-null  object\n",
      " 1   sha              73203 non-null  object\n",
      " 2   title            75313 non-null  object\n",
      " 3   doi              75075 non-null  object\n",
      " 4   pmcid            75313 non-null  object\n",
      " 5   pubmed_id        65748 non-null  object\n",
      " 6   abstract         75313 non-null  object\n",
      " 7   publish_time     75313 non-null  object\n",
      " 8   authors          75147 non-null  object\n",
      " 9   journal          74834 non-null  object\n",
      " 10  pmc_json_files   75313 non-null  object\n",
      " 11  url              75313 non-null  object\n",
      " 12  full_literature  75313 non-null  object\n",
      "dtypes: object(13)\n",
      "memory usage: 7.5+ MB\n"
     ]
    }
   ],
   "source": [
    "covid.info()"
   ]
  },
  {
   "cell_type": "code",
   "execution_count": 4,
   "metadata": {},
   "outputs": [
    {
     "data": {
      "text/html": [
       "<div>\n",
       "<style scoped>\n",
       "    .dataframe tbody tr th:only-of-type {\n",
       "        vertical-align: middle;\n",
       "    }\n",
       "\n",
       "    .dataframe tbody tr th {\n",
       "        vertical-align: top;\n",
       "    }\n",
       "\n",
       "    .dataframe thead th {\n",
       "        text-align: right;\n",
       "    }\n",
       "</style>\n",
       "<table border=\"1\" class=\"dataframe\">\n",
       "  <thead>\n",
       "    <tr style=\"text-align: right;\">\n",
       "      <th></th>\n",
       "      <th>cord_uid</th>\n",
       "      <th>sha</th>\n",
       "      <th>title</th>\n",
       "      <th>doi</th>\n",
       "      <th>pmcid</th>\n",
       "      <th>pubmed_id</th>\n",
       "      <th>abstract</th>\n",
       "      <th>publish_time</th>\n",
       "      <th>authors</th>\n",
       "      <th>journal</th>\n",
       "      <th>pmc_json_files</th>\n",
       "      <th>url</th>\n",
       "      <th>full_literature</th>\n",
       "    </tr>\n",
       "  </thead>\n",
       "  <tbody>\n",
       "    <tr>\n",
       "      <th>0</th>\n",
       "      <td>ug7v899j</td>\n",
       "      <td>d1aafb70c066a2068b02786f8929fd9c900897fb</td>\n",
       "      <td>Clinical features of culture-proven Mycoplasma...</td>\n",
       "      <td>10.1186/1471-2334-1-6</td>\n",
       "      <td>PMC35282</td>\n",
       "      <td>11472636</td>\n",
       "      <td>OBJECTIVE: This retrospective chart review des...</td>\n",
       "      <td>2001-07-04</td>\n",
       "      <td>Madani, Tariq A; Al-Ghamdi, Aisha A</td>\n",
       "      <td>BMC Infect Dis</td>\n",
       "      <td>document_parses/pmc_json/PMC35282.xml.json</td>\n",
       "      <td>https://www.ncbi.nlm.nih.gov/pmc/articles/PMC3...</td>\n",
       "      <td>Mycoplasma pneumoniae is a common cause of upp...</td>\n",
       "    </tr>\n",
       "    <tr>\n",
       "      <th>1</th>\n",
       "      <td>02tnwd4m</td>\n",
       "      <td>6b0567729c2143a66d737eb0a2f63f2dce2e5a7d</td>\n",
       "      <td>Nitric oxide: a pro-inflammatory mediator in l...</td>\n",
       "      <td>10.1186/rr14</td>\n",
       "      <td>PMC59543</td>\n",
       "      <td>11667967</td>\n",
       "      <td>Inflammatory diseases of the respiratory tract...</td>\n",
       "      <td>2000-08-15</td>\n",
       "      <td>Vliet, Albert van der; Eiserich, Jason P; Cros...</td>\n",
       "      <td>Respir Res</td>\n",
       "      <td>document_parses/pmc_json/PMC59543.xml.json</td>\n",
       "      <td>https://www.ncbi.nlm.nih.gov/pmc/articles/PMC5...</td>\n",
       "      <td>Since its discovery as a biological messenger ...</td>\n",
       "    </tr>\n",
       "    <tr>\n",
       "      <th>2</th>\n",
       "      <td>ejv2xln0</td>\n",
       "      <td>06ced00a5fc04215949aa72528f2eeaae1d58927</td>\n",
       "      <td>Surfactant protein-D and pulmonary host defense</td>\n",
       "      <td>10.1186/rr19</td>\n",
       "      <td>PMC59549</td>\n",
       "      <td>11667972</td>\n",
       "      <td>Surfactant protein-D (SP-D) participates in th...</td>\n",
       "      <td>2000-08-25</td>\n",
       "      <td>Crouch, Erika C</td>\n",
       "      <td>Respir Res</td>\n",
       "      <td>document_parses/pmc_json/PMC59549.xml.json</td>\n",
       "      <td>https://www.ncbi.nlm.nih.gov/pmc/articles/PMC5...</td>\n",
       "      <td>Surfactant protein-D (SP-D) is a member of the...</td>\n",
       "    </tr>\n",
       "    <tr>\n",
       "      <th>3</th>\n",
       "      <td>2b73a28n</td>\n",
       "      <td>348055649b6b8cf2b9a376498df9bf41f7123605</td>\n",
       "      <td>Role of endothelin-1 in lung disease</td>\n",
       "      <td>10.1186/rr44</td>\n",
       "      <td>PMC59574</td>\n",
       "      <td>11686871</td>\n",
       "      <td>Endothelin-1 (ET-1) is a 21 amino acid peptide...</td>\n",
       "      <td>2001-02-22</td>\n",
       "      <td>Fagan, Karen A; McMurtry, Ivan F; Rodman, David M</td>\n",
       "      <td>Respir Res</td>\n",
       "      <td>document_parses/pmc_json/PMC59574.xml.json</td>\n",
       "      <td>https://www.ncbi.nlm.nih.gov/pmc/articles/PMC5...</td>\n",
       "      <td>ET-1, ET-2, and ET-3 are members of a peptide ...</td>\n",
       "    </tr>\n",
       "    <tr>\n",
       "      <th>4</th>\n",
       "      <td>9785vg6d</td>\n",
       "      <td>5f48792a5fa08bed9f56016f4981ae2ca6031b32</td>\n",
       "      <td>Gene expression in epithelial cells in respons...</td>\n",
       "      <td>10.1186/rr61</td>\n",
       "      <td>PMC59580</td>\n",
       "      <td>11686888</td>\n",
       "      <td>Respiratory syncytial virus (RSV) and pneumoni...</td>\n",
       "      <td>2001-05-11</td>\n",
       "      <td>Domachowske, Joseph B; Bonville, Cynthia A; Ro...</td>\n",
       "      <td>Respir Res</td>\n",
       "      <td>document_parses/pmc_json/PMC59580.xml.json</td>\n",
       "      <td>https://www.ncbi.nlm.nih.gov/pmc/articles/PMC5...</td>\n",
       "      <td>RSV and PVM are viruses of the family Paramyxo...</td>\n",
       "    </tr>\n",
       "  </tbody>\n",
       "</table>\n",
       "</div>"
      ],
      "text/plain": [
       "   cord_uid                                       sha  \\\n",
       "0  ug7v899j  d1aafb70c066a2068b02786f8929fd9c900897fb   \n",
       "1  02tnwd4m  6b0567729c2143a66d737eb0a2f63f2dce2e5a7d   \n",
       "2  ejv2xln0  06ced00a5fc04215949aa72528f2eeaae1d58927   \n",
       "3  2b73a28n  348055649b6b8cf2b9a376498df9bf41f7123605   \n",
       "4  9785vg6d  5f48792a5fa08bed9f56016f4981ae2ca6031b32   \n",
       "\n",
       "                                               title                    doi  \\\n",
       "0  Clinical features of culture-proven Mycoplasma...  10.1186/1471-2334-1-6   \n",
       "1  Nitric oxide: a pro-inflammatory mediator in l...           10.1186/rr14   \n",
       "2    Surfactant protein-D and pulmonary host defense           10.1186/rr19   \n",
       "3               Role of endothelin-1 in lung disease           10.1186/rr44   \n",
       "4  Gene expression in epithelial cells in respons...           10.1186/rr61   \n",
       "\n",
       "      pmcid pubmed_id                                           abstract  \\\n",
       "0  PMC35282  11472636  OBJECTIVE: This retrospective chart review des...   \n",
       "1  PMC59543  11667967  Inflammatory diseases of the respiratory tract...   \n",
       "2  PMC59549  11667972  Surfactant protein-D (SP-D) participates in th...   \n",
       "3  PMC59574  11686871  Endothelin-1 (ET-1) is a 21 amino acid peptide...   \n",
       "4  PMC59580  11686888  Respiratory syncytial virus (RSV) and pneumoni...   \n",
       "\n",
       "  publish_time                                            authors  \\\n",
       "0   2001-07-04                Madani, Tariq A; Al-Ghamdi, Aisha A   \n",
       "1   2000-08-15  Vliet, Albert van der; Eiserich, Jason P; Cros...   \n",
       "2   2000-08-25                                    Crouch, Erika C   \n",
       "3   2001-02-22  Fagan, Karen A; McMurtry, Ivan F; Rodman, David M   \n",
       "4   2001-05-11  Domachowske, Joseph B; Bonville, Cynthia A; Ro...   \n",
       "\n",
       "          journal                              pmc_json_files  \\\n",
       "0  BMC Infect Dis  document_parses/pmc_json/PMC35282.xml.json   \n",
       "1      Respir Res  document_parses/pmc_json/PMC59543.xml.json   \n",
       "2      Respir Res  document_parses/pmc_json/PMC59549.xml.json   \n",
       "3      Respir Res  document_parses/pmc_json/PMC59574.xml.json   \n",
       "4      Respir Res  document_parses/pmc_json/PMC59580.xml.json   \n",
       "\n",
       "                                                 url  \\\n",
       "0  https://www.ncbi.nlm.nih.gov/pmc/articles/PMC3...   \n",
       "1  https://www.ncbi.nlm.nih.gov/pmc/articles/PMC5...   \n",
       "2  https://www.ncbi.nlm.nih.gov/pmc/articles/PMC5...   \n",
       "3  https://www.ncbi.nlm.nih.gov/pmc/articles/PMC5...   \n",
       "4  https://www.ncbi.nlm.nih.gov/pmc/articles/PMC5...   \n",
       "\n",
       "                                     full_literature  \n",
       "0  Mycoplasma pneumoniae is a common cause of upp...  \n",
       "1  Since its discovery as a biological messenger ...  \n",
       "2  Surfactant protein-D (SP-D) is a member of the...  \n",
       "3  ET-1, ET-2, and ET-3 are members of a peptide ...  \n",
       "4  RSV and PVM are viruses of the family Paramyxo...  "
      ]
     },
     "execution_count": 4,
     "metadata": {},
     "output_type": "execute_result"
    }
   ],
   "source": [
    "covid.head()"
   ]
  },
  {
   "cell_type": "markdown",
   "metadata": {},
   "source": [
    "__Feature engineering + pre processing__\n",
    "\n",
    "* ___text___: Column contains combination of  __title__, __abstract__, __full_literature__\n",
    "* convert text to lower case\n",
    "* Remove punctuations and all non alphabetic characters\n",
    "* Reduce multi space to single space"
   ]
  },
  {
   "cell_type": "code",
   "execution_count": 5,
   "metadata": {},
   "outputs": [],
   "source": [
    "def clean_data(df):\n",
    "    total_time = 0\n",
    "    start = time.time()\n",
    "    \n",
    "    covid19 = pd.DataFrame()\n",
    "    #combine title, abstract and full_literature to text column\n",
    "    covid19['text'] = df['title'] +\" \"+ df['abstract'] +\" \"+ df['full_literature']\n",
    "    \n",
    "    #convert text to lower case\n",
    "    covid19['text']  = covid19['text'].str.lower()\n",
    "    \n",
    "    #remove punctuations\n",
    "    #remove all non alphabetic characters\n",
    "    regex_1 = re.compile(r'[^a-zA-Z]')\n",
    "    covid19['text'] = pd.Series(covid19['text']).str.replace(regex_1, ' ')\n",
    "    \n",
    "    #reduce multi-space to single space\n",
    "    regex_2 = re.compile(r' +')\n",
    "    covid19['text'] = pd.Series(covid19['text']).str.replace(regex_2,' ')\n",
    "   \n",
    "    stop = time.time()\n",
    "    duration = stop-start\n",
    "    total_time = total_time + duration\n",
    "    time_taken = str(datetime.timedelta(seconds=total_time))    \n",
    "    print(\"Time taken/file :\",duration)\n",
    "    print(\"Total duration :\",time_taken)\n",
    "    \n",
    "    return covid19"
   ]
  },
  {
   "cell_type": "markdown",
   "metadata": {},
   "source": [
    "__Clean the data__"
   ]
  },
  {
   "cell_type": "code",
   "execution_count": 6,
   "metadata": {},
   "outputs": [
    {
     "name": "stdout",
     "output_type": "stream",
     "text": [
      "Time taken/file : 228.189551115036\n",
      "Total duration : 0:03:48.189551\n"
     ]
    }
   ],
   "source": [
    "covid19 = pd.DataFrame()\n",
    "covid19 = clean_data(covid)"
   ]
  },
  {
   "cell_type": "code",
   "execution_count": 7,
   "metadata": {},
   "outputs": [
    {
     "name": "stdout",
     "output_type": "stream",
     "text": [
      "<class 'pandas.core.frame.DataFrame'>\n",
      "RangeIndex: 75313 entries, 0 to 75312\n",
      "Data columns (total 1 columns):\n",
      " #   Column  Non-Null Count  Dtype \n",
      "---  ------  --------------  ----- \n",
      " 0   text    75313 non-null  object\n",
      "dtypes: object(1)\n",
      "memory usage: 588.5+ KB\n"
     ]
    }
   ],
   "source": [
    "covid19.info()"
   ]
  },
  {
   "cell_type": "code",
   "execution_count": 8,
   "metadata": {},
   "outputs": [
    {
     "data": {
      "text/html": [
       "<div>\n",
       "<style scoped>\n",
       "    .dataframe tbody tr th:only-of-type {\n",
       "        vertical-align: middle;\n",
       "    }\n",
       "\n",
       "    .dataframe tbody tr th {\n",
       "        vertical-align: top;\n",
       "    }\n",
       "\n",
       "    .dataframe thead th {\n",
       "        text-align: right;\n",
       "    }\n",
       "</style>\n",
       "<table border=\"1\" class=\"dataframe\">\n",
       "  <thead>\n",
       "    <tr style=\"text-align: right;\">\n",
       "      <th></th>\n",
       "      <th>text</th>\n",
       "    </tr>\n",
       "  </thead>\n",
       "  <tbody>\n",
       "    <tr>\n",
       "      <th>0</th>\n",
       "      <td>clinical features of culture proven mycoplasma...</td>\n",
       "    </tr>\n",
       "    <tr>\n",
       "      <th>1</th>\n",
       "      <td>nitric oxide a pro inflammatory mediator in lu...</td>\n",
       "    </tr>\n",
       "    <tr>\n",
       "      <th>2</th>\n",
       "      <td>surfactant protein d and pulmonary host defens...</td>\n",
       "    </tr>\n",
       "    <tr>\n",
       "      <th>3</th>\n",
       "      <td>role of endothelin in lung disease endothelin ...</td>\n",
       "    </tr>\n",
       "    <tr>\n",
       "      <th>4</th>\n",
       "      <td>gene expression in epithelial cells in respons...</td>\n",
       "    </tr>\n",
       "  </tbody>\n",
       "</table>\n",
       "</div>"
      ],
      "text/plain": [
       "                                                text\n",
       "0  clinical features of culture proven mycoplasma...\n",
       "1  nitric oxide a pro inflammatory mediator in lu...\n",
       "2  surfactant protein d and pulmonary host defens...\n",
       "3  role of endothelin in lung disease endothelin ...\n",
       "4  gene expression in epithelial cells in respons..."
      ]
     },
     "execution_count": 8,
     "metadata": {},
     "output_type": "execute_result"
    }
   ],
   "source": [
    "covid19.head()"
   ]
  },
  {
   "cell_type": "markdown",
   "metadata": {},
   "source": [
    "__Tokenization__"
   ]
  },
  {
   "cell_type": "code",
   "execution_count": 9,
   "metadata": {},
   "outputs": [],
   "source": [
    "#stopwords\n",
    "\n",
    "stopwords = list(STOP_WORDS)"
   ]
  },
  {
   "cell_type": "code",
   "execution_count": 10,
   "metadata": {},
   "outputs": [
    {
     "data": {
      "text/plain": [
       "326"
      ]
     },
     "execution_count": 10,
     "metadata": {},
     "output_type": "execute_result"
    }
   ],
   "source": [
    "len(stopwords)"
   ]
  },
  {
   "cell_type": "code",
   "execution_count": 2,
   "metadata": {},
   "outputs": [],
   "source": [
    "#get punctuations\n",
    "punctuations = string.punctuation"
   ]
  },
  {
   "cell_type": "code",
   "execution_count": 11,
   "metadata": {},
   "outputs": [
    {
     "name": "stderr",
     "output_type": "stream",
     "text": [
      "/Users/uni/opt/anaconda3/lib/python3.8/site-packages/spacy/util.py:275: UserWarning: [W031] Model 'en_core_sci_lg' (0.2.4) requires spaCy v2.2 and is incompatible with the current spaCy version (2.3.4). This may lead to unexpected results or runtime errors. To resolve this, download a newer compatible model or retrain your custom model with the current spaCy version. For more details and available updates, run: python -m spacy validate\n",
      "  warnings.warn(warn_msg)\n"
     ]
    }
   ],
   "source": [
    "nlp = spacy.load('en_core_sci_lg')"
   ]
  },
  {
   "cell_type": "markdown",
   "metadata": {},
   "source": [
    "__Tokenize and remove stop wrods, punctuations, remove pronoun, convert text into lower case and combine into sentense__"
   ]
  },
  {
   "cell_type": "code",
   "execution_count": 51,
   "metadata": {},
   "outputs": [],
   "source": [
    "def tokenizer(text):\n",
    "    tokens = nlp(text)\n",
    "    tokens = [ word.lemma_.lower().strip() if word.lemma_ != \"-PRON-\" else word.lower_ for word in tokens ]\n",
    "    tokens = [ word for word in tokens if word not in stopwords and word not in punctuations ]\n",
    "    s = \" \"\n",
    "    tokens = s.join(tokens)\n",
    "    return tokens"
   ]
  },
  {
   "cell_type": "markdown",
   "metadata": {},
   "source": [
    "__RUN tokenizer function__"
   ]
  },
  {
   "cell_type": "code",
   "execution_count": 63,
   "metadata": {},
   "outputs": [
    {
     "name": "stderr",
     "output_type": "stream",
     "text": [
      "100%|██████████| 75313/75313 [10:17:02<00:00,  2.03it/s]  \n"
     ]
    }
   ],
   "source": [
    "tqdm.pandas()\n",
    "covid19['text'] = covid19[\"text\"].progress_apply(tokenizer)"
   ]
  },
  {
   "cell_type": "markdown",
   "metadata": {},
   "source": [
    "__Count the number of words in each documents__"
   ]
  },
  {
   "cell_type": "code",
   "execution_count": 64,
   "metadata": {},
   "outputs": [],
   "source": [
    "covid19['word_count'] = covid19['text'].apply(lambda x: len(x.strip().split()))"
   ]
  },
  {
   "cell_type": "markdown",
   "metadata": {},
   "source": [
    "__Export the data to new file__"
   ]
  },
  {
   "cell_type": "code",
   "execution_count": 65,
   "metadata": {},
   "outputs": [],
   "source": [
    "covid19.to_csv('75313_processed_data.csv', index=False)"
   ]
  },
  {
   "cell_type": "markdown",
   "metadata": {},
   "source": [
    "__Open the new pre processed file__"
   ]
  },
  {
   "cell_type": "code",
   "execution_count": 2,
   "metadata": {},
   "outputs": [],
   "source": [
    "covid19 = pd.read_csv('75313_processed_data.csv', low_memory=False)"
   ]
  },
  {
   "cell_type": "code",
   "execution_count": 3,
   "metadata": {},
   "outputs": [
    {
     "data": {
      "text/html": [
       "<div>\n",
       "<style scoped>\n",
       "    .dataframe tbody tr th:only-of-type {\n",
       "        vertical-align: middle;\n",
       "    }\n",
       "\n",
       "    .dataframe tbody tr th {\n",
       "        vertical-align: top;\n",
       "    }\n",
       "\n",
       "    .dataframe thead th {\n",
       "        text-align: right;\n",
       "    }\n",
       "</style>\n",
       "<table border=\"1\" class=\"dataframe\">\n",
       "  <thead>\n",
       "    <tr style=\"text-align: right;\">\n",
       "      <th></th>\n",
       "      <th>text</th>\n",
       "      <th>word_count</th>\n",
       "    </tr>\n",
       "  </thead>\n",
       "  <tbody>\n",
       "    <tr>\n",
       "      <th>0</th>\n",
       "      <td>clinical feature culture prove mycoplasma pneu...</td>\n",
       "      <td>1191</td>\n",
       "    </tr>\n",
       "    <tr>\n",
       "      <th>1</th>\n",
       "      <td>nitric oxide pro inflammatory mediator lung di...</td>\n",
       "      <td>1662</td>\n",
       "    </tr>\n",
       "    <tr>\n",
       "      <th>2</th>\n",
       "      <td>surfactant protein d pulmonary host defense su...</td>\n",
       "      <td>3903</td>\n",
       "    </tr>\n",
       "    <tr>\n",
       "      <th>3</th>\n",
       "      <td>role endothelin lung disease endothelin et ami...</td>\n",
       "      <td>2981</td>\n",
       "    </tr>\n",
       "    <tr>\n",
       "      <th>4</th>\n",
       "      <td>gene expression epithelial cell response pneum...</td>\n",
       "      <td>2091</td>\n",
       "    </tr>\n",
       "  </tbody>\n",
       "</table>\n",
       "</div>"
      ],
      "text/plain": [
       "                                                text  word_count\n",
       "0  clinical feature culture prove mycoplasma pneu...        1191\n",
       "1  nitric oxide pro inflammatory mediator lung di...        1662\n",
       "2  surfactant protein d pulmonary host defense su...        3903\n",
       "3  role endothelin lung disease endothelin et ami...        2981\n",
       "4  gene expression epithelial cell response pneum...        2091"
      ]
     },
     "execution_count": 3,
     "metadata": {},
     "output_type": "execute_result"
    }
   ],
   "source": [
    "covid19.head()"
   ]
  },
  {
   "cell_type": "code",
   "execution_count": 4,
   "metadata": {},
   "outputs": [
    {
     "data": {
      "text/plain": [
       "count    75313.000000\n",
       "mean      2432.307902\n",
       "std       1891.897290\n",
       "min         10.000000\n",
       "25%       1372.000000\n",
       "50%       2045.000000\n",
       "75%       3008.000000\n",
       "max      40454.000000\n",
       "Name: word_count, dtype: float64"
      ]
     },
     "execution_count": 4,
     "metadata": {},
     "output_type": "execute_result"
    }
   ],
   "source": [
    "covid19['word_count'].describe()"
   ]
  },
  {
   "cell_type": "markdown",
   "metadata": {},
   "source": [
    "__Visualize word count__"
   ]
  },
  {
   "cell_type": "code",
   "execution_count": 5,
   "metadata": {},
   "outputs": [
    {
     "name": "stderr",
     "output_type": "stream",
     "text": [
      "/Users/uni/opt/anaconda3/lib/python3.8/site-packages/seaborn/distributions.py:2551: FutureWarning: `distplot` is a deprecated function and will be removed in a future version. Please adapt your code to use either `displot` (a figure-level function with similar flexibility) or `histplot` (an axes-level function for histograms).\n",
      "  warnings.warn(msg, FutureWarning)\n"
     ]
    },
    {
     "data": {
      "text/plain": [
       "<AxesSubplot:xlabel='word_count', ylabel='Density'>"
      ]
     },
     "execution_count": 5,
     "metadata": {},
     "output_type": "execute_result"
    },
    {
     "data": {
      "image/png": "[encoded data removed]",
      "text/plain": [
       "<Figure size 432x288 with 1 Axes>"
      ]
     },
     "metadata": {
      "needs_background": "light"
     },
     "output_type": "display_data"
    }
   ],
   "source": [
    "sn.distplot(covid19['word_count'])"
   ]
  },
  {
   "cell_type": "markdown",
   "metadata": {},
   "source": [
    "__count unique words__"
   ]
  },
  {
   "cell_type": "code",
   "execution_count": 6,
   "metadata": {},
   "outputs": [],
   "source": [
    "covid19['unique_words_count']=covid19['text'].apply(lambda x:len(set(str(x).split())))"
   ]
  },
  {
   "cell_type": "code",
   "execution_count": 7,
   "metadata": {},
   "outputs": [
    {
     "data": {
      "text/html": [
       "<div>\n",
       "<style scoped>\n",
       "    .dataframe tbody tr th:only-of-type {\n",
       "        vertical-align: middle;\n",
       "    }\n",
       "\n",
       "    .dataframe tbody tr th {\n",
       "        vertical-align: top;\n",
       "    }\n",
       "\n",
       "    .dataframe thead th {\n",
       "        text-align: right;\n",
       "    }\n",
       "</style>\n",
       "<table border=\"1\" class=\"dataframe\">\n",
       "  <thead>\n",
       "    <tr style=\"text-align: right;\">\n",
       "      <th></th>\n",
       "      <th>text</th>\n",
       "      <th>word_count</th>\n",
       "      <th>unique_words_count</th>\n",
       "    </tr>\n",
       "  </thead>\n",
       "  <tbody>\n",
       "    <tr>\n",
       "      <th>0</th>\n",
       "      <td>clinical feature culture prove mycoplasma pneu...</td>\n",
       "      <td>1191</td>\n",
       "      <td>477</td>\n",
       "    </tr>\n",
       "    <tr>\n",
       "      <th>1</th>\n",
       "      <td>nitric oxide pro inflammatory mediator lung di...</td>\n",
       "      <td>1662</td>\n",
       "      <td>649</td>\n",
       "    </tr>\n",
       "    <tr>\n",
       "      <th>2</th>\n",
       "      <td>surfactant protein d pulmonary host defense su...</td>\n",
       "      <td>3903</td>\n",
       "      <td>1060</td>\n",
       "    </tr>\n",
       "    <tr>\n",
       "      <th>3</th>\n",
       "      <td>role endothelin lung disease endothelin et ami...</td>\n",
       "      <td>2981</td>\n",
       "      <td>812</td>\n",
       "    </tr>\n",
       "    <tr>\n",
       "      <th>4</th>\n",
       "      <td>gene expression epithelial cell response pneum...</td>\n",
       "      <td>2091</td>\n",
       "      <td>712</td>\n",
       "    </tr>\n",
       "  </tbody>\n",
       "</table>\n",
       "</div>"
      ],
      "text/plain": [
       "                                                text  word_count  \\\n",
       "0  clinical feature culture prove mycoplasma pneu...        1191   \n",
       "1  nitric oxide pro inflammatory mediator lung di...        1662   \n",
       "2  surfactant protein d pulmonary host defense su...        3903   \n",
       "3  role endothelin lung disease endothelin et ami...        2981   \n",
       "4  gene expression epithelial cell response pneum...        2091   \n",
       "\n",
       "   unique_words_count  \n",
       "0                 477  \n",
       "1                 649  \n",
       "2                1060  \n",
       "3                 812  \n",
       "4                 712  "
      ]
     },
     "execution_count": 7,
     "metadata": {},
     "output_type": "execute_result"
    }
   ],
   "source": [
    "covid19.head()"
   ]
  },
  {
   "cell_type": "code",
   "execution_count": 8,
   "metadata": {},
   "outputs": [
    {
     "data": {
      "text/plain": [
       "count    75313.000000\n",
       "mean       717.895383\n",
       "std        362.308083\n",
       "min         10.000000\n",
       "25%        495.000000\n",
       "50%        659.000000\n",
       "75%        874.000000\n",
       "max       7951.000000\n",
       "Name: unique_words_count, dtype: float64"
      ]
     },
     "execution_count": 8,
     "metadata": {},
     "output_type": "execute_result"
    }
   ],
   "source": [
    "covid19['unique_words_count'].describe()"
   ]
  },
  {
   "cell_type": "markdown",
   "metadata": {},
   "source": [
    "__Visualize unique word count__"
   ]
  },
  {
   "cell_type": "code",
   "execution_count": 9,
   "metadata": {
    "scrolled": true
   },
   "outputs": [
    {
     "name": "stderr",
     "output_type": "stream",
     "text": [
      "/Users/uni/opt/anaconda3/lib/python3.8/site-packages/seaborn/distributions.py:2551: FutureWarning: `distplot` is a deprecated function and will be removed in a future version. Please adapt your code to use either `displot` (a figure-level function with similar flexibility) or `histplot` (an axes-level function for histograms).\n",
      "  warnings.warn(msg, FutureWarning)\n"
     ]
    },
    {
     "data": {
      "text/plain": [
       "<AxesSubplot:xlabel='unique_words_count', ylabel='Density'>"
      ]
     },
     "execution_count": 9,
     "metadata": {},
     "output_type": "execute_result"
    },
    {
     "data": {
      "image/png": "[encoded data removed]",
      "text/plain": [
       "<Figure size 432x288 with 1 Axes>"
      ]
     },
     "metadata": {
      "needs_background": "light"
     },
     "output_type": "display_data"
    }
   ],
   "source": [
    "sn.distplot(covid19['unique_words_count'])"
   ]
  },
  {
   "cell_type": "markdown",
   "metadata": {},
   "source": [
    "# Final data to Work on the Project\n",
    "* Data limited to around 10000 samples\n",
    "* Due to limited computational power"
   ]
  },
  {
   "cell_type": "markdown",
   "metadata": {},
   "source": [
    "__Get the articles having word count min. 3000 and max. 10000.__"
   ]
  },
  {
   "cell_type": "code",
   "execution_count": 10,
   "metadata": {},
   "outputs": [],
   "source": [
    "work_data = covid19[(covid19['word_count']>3000) & (covid19['word_count']<10000) & (covid19['unique_words_count']>1000)]"
   ]
  },
  {
   "cell_type": "markdown",
   "metadata": {},
   "source": [
    "__Data only with english language__"
   ]
  },
  {
   "cell_type": "code",
   "execution_count": 38,
   "metadata": {},
   "outputs": [],
   "source": [
    "nlp = spacy.load('en')\n",
    "nlp.add_pipe(LanguageDetector(), name='language_detector', last=True)\n",
    "text = work_data['text']\n",
    "lang = []\n",
    "for txt in text:\n",
    "    docs = nlp(txt)\n",
    "    if(docs._.languages):\n",
    "        lang.append(docs._.languages[0])\n",
    "    else:\n",
    "        lang.append('unknown')"
   ]
  },
  {
   "cell_type": "code",
   "execution_count": 44,
   "metadata": {},
   "outputs": [
    {
     "data": {
      "text/plain": [
       "10560"
      ]
     },
     "execution_count": 44,
     "metadata": {},
     "output_type": "execute_result"
    }
   ],
   "source": [
    "len(lang)"
   ]
  },
  {
   "cell_type": "code",
   "execution_count": 45,
   "metadata": {},
   "outputs": [
    {
     "name": "stderr",
     "output_type": "stream",
     "text": [
      "<ipython-input-45-58585cf6a5e1>:1: SettingWithCopyWarning: \n",
      "A value is trying to be set on a copy of a slice from a DataFrame.\n",
      "Try using .loc[row_indexer,col_indexer] = value instead\n",
      "\n",
      "See the caveats in the documentation: https://pandas.pydata.org/pandas-docs/stable/user_guide/indexing.html#returning-a-view-versus-a-copy\n",
      "  work_data['lang'] = lang\n"
     ]
    }
   ],
   "source": [
    "work_data['lang'] = lang"
   ]
  },
  {
   "cell_type": "code",
   "execution_count": 53,
   "metadata": {},
   "outputs": [
    {
     "data": {
      "text/plain": [
       "10126"
      ]
     },
     "execution_count": 53,
     "metadata": {},
     "output_type": "execute_result"
    }
   ],
   "source": [
    "len(work_data[work_data['lang']=='en'])"
   ]
  },
  {
   "cell_type": "code",
   "execution_count": 56,
   "metadata": {},
   "outputs": [
    {
     "data": {
      "text/plain": [
       "array(['en', 'de', 'nl', 'es', 'pl', 'fr', 'pt'], dtype=object)"
      ]
     },
     "execution_count": 56,
     "metadata": {},
     "output_type": "execute_result"
    }
   ],
   "source": [
    "work_data['lang'].unique()"
   ]
  },
  {
   "cell_type": "code",
   "execution_count": 57,
   "metadata": {},
   "outputs": [
    {
     "data": {
      "text/plain": [
       "en    10126\n",
       "de      251\n",
       "fr       79\n",
       "es       68\n",
       "nl       33\n",
       "pl        2\n",
       "pt        1\n",
       "Name: lang, dtype: int64"
      ]
     },
     "execution_count": 57,
     "metadata": {},
     "output_type": "execute_result"
    }
   ],
   "source": [
    "work_data['lang'].value_counts()"
   ]
  },
  {
   "cell_type": "markdown",
   "metadata": {},
   "source": [
    "__Different language Distribution in bar chart__"
   ]
  },
  {
   "cell_type": "code",
   "execution_count": 62,
   "metadata": {},
   "outputs": [
    {
     "data": {
      "text/plain": [
       "<AxesSubplot:>"
      ]
     },
     "execution_count": 62,
     "metadata": {},
     "output_type": "execute_result"
    },
    {
     "data": {
      "image/png": "[encoded data removed]",
      "text/plain": [
       "<Figure size 432x288 with 1 Axes>"
      ]
     },
     "metadata": {
      "needs_background": "light"
     },
     "output_type": "display_data"
    }
   ],
   "source": [
    "work_data['lang'].value_counts().plot.bar(x='Language', y='count', color='red')"
   ]
  },
  {
   "cell_type": "markdown",
   "metadata": {},
   "source": [
    "__Get data with english language only__"
   ]
  },
  {
   "cell_type": "code",
   "execution_count": 67,
   "metadata": {},
   "outputs": [],
   "source": [
    "work_data = work_data[work_data['lang']=='en']"
   ]
  },
  {
   "cell_type": "code",
   "execution_count": 68,
   "metadata": {},
   "outputs": [
    {
     "data": {
      "text/html": [
       "<div>\n",
       "<style scoped>\n",
       "    .dataframe tbody tr th:only-of-type {\n",
       "        vertical-align: middle;\n",
       "    }\n",
       "\n",
       "    .dataframe tbody tr th {\n",
       "        vertical-align: top;\n",
       "    }\n",
       "\n",
       "    .dataframe thead th {\n",
       "        text-align: right;\n",
       "    }\n",
       "</style>\n",
       "<table border=\"1\" class=\"dataframe\">\n",
       "  <thead>\n",
       "    <tr style=\"text-align: right;\">\n",
       "      <th></th>\n",
       "      <th>word_count</th>\n",
       "      <th>unique_words_count</th>\n",
       "    </tr>\n",
       "  </thead>\n",
       "  <tbody>\n",
       "    <tr>\n",
       "      <th>count</th>\n",
       "      <td>10126.000000</td>\n",
       "      <td>10126.000000</td>\n",
       "    </tr>\n",
       "    <tr>\n",
       "      <th>mean</th>\n",
       "      <td>4620.628086</td>\n",
       "      <td>1281.674896</td>\n",
       "    </tr>\n",
       "    <tr>\n",
       "      <th>std</th>\n",
       "      <td>1320.257168</td>\n",
       "      <td>268.374557</td>\n",
       "    </tr>\n",
       "    <tr>\n",
       "      <th>min</th>\n",
       "      <td>3001.000000</td>\n",
       "      <td>1001.000000</td>\n",
       "    </tr>\n",
       "    <tr>\n",
       "      <th>25%</th>\n",
       "      <td>3656.250000</td>\n",
       "      <td>1090.000000</td>\n",
       "    </tr>\n",
       "    <tr>\n",
       "      <th>50%</th>\n",
       "      <td>4265.000000</td>\n",
       "      <td>1199.000000</td>\n",
       "    </tr>\n",
       "    <tr>\n",
       "      <th>75%</th>\n",
       "      <td>5197.750000</td>\n",
       "      <td>1390.000000</td>\n",
       "    </tr>\n",
       "    <tr>\n",
       "      <th>max</th>\n",
       "      <td>9972.000000</td>\n",
       "      <td>3250.000000</td>\n",
       "    </tr>\n",
       "  </tbody>\n",
       "</table>\n",
       "</div>"
      ],
      "text/plain": [
       "         word_count  unique_words_count\n",
       "count  10126.000000        10126.000000\n",
       "mean    4620.628086         1281.674896\n",
       "std     1320.257168          268.374557\n",
       "min     3001.000000         1001.000000\n",
       "25%     3656.250000         1090.000000\n",
       "50%     4265.000000         1199.000000\n",
       "75%     5197.750000         1390.000000\n",
       "max     9972.000000         3250.000000"
      ]
     },
     "execution_count": 68,
     "metadata": {},
     "output_type": "execute_result"
    }
   ],
   "source": [
    "work_data.describe()"
   ]
  },
  {
   "cell_type": "code",
   "execution_count": 69,
   "metadata": {
    "scrolled": true
   },
   "outputs": [
    {
     "name": "stderr",
     "output_type": "stream",
     "text": [
      "/Users/uni/opt/anaconda3/lib/python3.8/site-packages/seaborn/distributions.py:2551: FutureWarning: `distplot` is a deprecated function and will be removed in a future version. Please adapt your code to use either `displot` (a figure-level function with similar flexibility) or `histplot` (an axes-level function for histograms).\n",
      "  warnings.warn(msg, FutureWarning)\n"
     ]
    },
    {
     "data": {
      "text/plain": [
       "<AxesSubplot:xlabel='unique_words_count', ylabel='Density'>"
      ]
     },
     "execution_count": 69,
     "metadata": {},
     "output_type": "execute_result"
    },
    {
     "data": {
      "image/png": "[encoded data removed]",
      "text/plain": [
       "<Figure size 432x288 with 1 Axes>"
      ]
     },
     "metadata": {
      "needs_background": "light"
     },
     "output_type": "display_data"
    }
   ],
   "source": [
    "sn.distplot(work_data['unique_words_count'])"
   ]
  },
  {
   "cell_type": "code",
   "execution_count": 70,
   "metadata": {
    "scrolled": true
   },
   "outputs": [
    {
     "name": "stderr",
     "output_type": "stream",
     "text": [
      "/Users/uni/opt/anaconda3/lib/python3.8/site-packages/seaborn/distributions.py:2551: FutureWarning: `distplot` is a deprecated function and will be removed in a future version. Please adapt your code to use either `displot` (a figure-level function with similar flexibility) or `histplot` (an axes-level function for histograms).\n",
      "  warnings.warn(msg, FutureWarning)\n"
     ]
    },
    {
     "data": {
      "text/plain": [
       "<AxesSubplot:xlabel='word_count', ylabel='Density'>"
      ]
     },
     "execution_count": 70,
     "metadata": {},
     "output_type": "execute_result"
    },
    {
     "data": {
      "image/png": "[encoded data removed]",
      "text/plain": [
       "<Figure size 432x288 with 1 Axes>"
      ]
     },
     "metadata": {
      "needs_background": "light"
     },
     "output_type": "display_data"
    }
   ],
   "source": [
    "sn.distplot(work_data['word_count'])"
   ]
  },
  {
   "cell_type": "markdown",
   "metadata": {},
   "source": [
    "__Export the work_data__\n",
    "* this data will be used for clustering"
   ]
  },
  {
   "cell_type": "code",
   "execution_count": 71,
   "metadata": {},
   "outputs": [],
   "source": [
    "work_data.to_csv('work_data.csv', index=False)"
   ]
  },
  {
   "cell_type": "markdown",
   "metadata": {},
   "source": [
    "__Export metadata information from covid19_data.csv file for the corresponding work_data__"
   ]
  },
  {
   "cell_type": "code",
   "execution_count": 72,
   "metadata": {},
   "outputs": [],
   "source": [
    "#open metadata file\n",
    "work_metadata = pd.read_csv('covid19_data.csv', low_memory=False)"
   ]
  },
  {
   "cell_type": "code",
   "execution_count": 74,
   "metadata": {
    "scrolled": true
   },
   "outputs": [
    {
     "name": "stdout",
     "output_type": "stream",
     "text": [
      "<class 'pandas.core.frame.DataFrame'>\n",
      "RangeIndex: 75313 entries, 0 to 75312\n",
      "Data columns (total 13 columns):\n",
      " #   Column           Non-Null Count  Dtype \n",
      "---  ------           --------------  ----- \n",
      " 0   cord_uid         75313 non-null  object\n",
      " 1   sha              73203 non-null  object\n",
      " 2   title            75313 non-null  object\n",
      " 3   doi              75075 non-null  object\n",
      " 4   pmcid            75313 non-null  object\n",
      " 5   pubmed_id        65748 non-null  object\n",
      " 6   abstract         75313 non-null  object\n",
      " 7   publish_time     75313 non-null  object\n",
      " 8   authors          75147 non-null  object\n",
      " 9   journal          74834 non-null  object\n",
      " 10  pmc_json_files   75313 non-null  object\n",
      " 11  url              75313 non-null  object\n",
      " 12  full_literature  75313 non-null  object\n",
      "dtypes: object(13)\n",
      "memory usage: 7.5+ MB\n"
     ]
    }
   ],
   "source": [
    "work_metadata.info()"
   ]
  },
  {
   "cell_type": "markdown",
   "metadata": {},
   "source": [
    "__Get only those index that are both in work_data and work_metadata dataframe__"
   ]
  },
  {
   "cell_type": "code",
   "execution_count": 75,
   "metadata": {},
   "outputs": [],
   "source": [
    "index = work_metadata.index.isin(work_data.index)"
   ]
  },
  {
   "cell_type": "code",
   "execution_count": 76,
   "metadata": {},
   "outputs": [],
   "source": [
    "work_metadata = work_metadata[index]"
   ]
  },
  {
   "cell_type": "code",
   "execution_count": 77,
   "metadata": {},
   "outputs": [
    {
     "name": "stdout",
     "output_type": "stream",
     "text": [
      "<class 'pandas.core.frame.DataFrame'>\n",
      "Int64Index: 10126 entries, 2 to 75305\n",
      "Data columns (total 13 columns):\n",
      " #   Column           Non-Null Count  Dtype \n",
      "---  ------           --------------  ----- \n",
      " 0   cord_uid         10126 non-null  object\n",
      " 1   sha              9981 non-null   object\n",
      " 2   title            10126 non-null  object\n",
      " 3   doi              10109 non-null  object\n",
      " 4   pmcid            10126 non-null  object\n",
      " 5   pubmed_id        8032 non-null   object\n",
      " 6   abstract         10126 non-null  object\n",
      " 7   publish_time     10126 non-null  object\n",
      " 8   authors          10112 non-null  object\n",
      " 9   journal          10018 non-null  object\n",
      " 10  pmc_json_files   10126 non-null  object\n",
      " 11  url              10126 non-null  object\n",
      " 12  full_literature  10126 non-null  object\n",
      "dtypes: object(13)\n",
      "memory usage: 1.1+ MB\n"
     ]
    }
   ],
   "source": [
    "work_metadata.info()"
   ]
  },
  {
   "cell_type": "code",
   "execution_count": 78,
   "metadata": {},
   "outputs": [
    {
     "data": {
      "text/html": [
       "<div>\n",
       "<style scoped>\n",
       "    .dataframe tbody tr th:only-of-type {\n",
       "        vertical-align: middle;\n",
       "    }\n",
       "\n",
       "    .dataframe tbody tr th {\n",
       "        vertical-align: top;\n",
       "    }\n",
       "\n",
       "    .dataframe thead th {\n",
       "        text-align: right;\n",
       "    }\n",
       "</style>\n",
       "<table border=\"1\" class=\"dataframe\">\n",
       "  <thead>\n",
       "    <tr style=\"text-align: right;\">\n",
       "      <th></th>\n",
       "      <th>cord_uid</th>\n",
       "      <th>sha</th>\n",
       "      <th>title</th>\n",
       "      <th>doi</th>\n",
       "      <th>pmcid</th>\n",
       "      <th>pubmed_id</th>\n",
       "      <th>abstract</th>\n",
       "      <th>publish_time</th>\n",
       "      <th>authors</th>\n",
       "      <th>journal</th>\n",
       "      <th>pmc_json_files</th>\n",
       "      <th>url</th>\n",
       "      <th>full_literature</th>\n",
       "    </tr>\n",
       "  </thead>\n",
       "  <tbody>\n",
       "    <tr>\n",
       "      <th>2</th>\n",
       "      <td>ejv2xln0</td>\n",
       "      <td>06ced00a5fc04215949aa72528f2eeaae1d58927</td>\n",
       "      <td>Surfactant protein-D and pulmonary host defense</td>\n",
       "      <td>10.1186/rr19</td>\n",
       "      <td>PMC59549</td>\n",
       "      <td>11667972</td>\n",
       "      <td>Surfactant protein-D (SP-D) participates in th...</td>\n",
       "      <td>2000-08-25</td>\n",
       "      <td>Crouch, Erika C</td>\n",
       "      <td>Respir Res</td>\n",
       "      <td>document_parses/pmc_json/PMC59549.xml.json</td>\n",
       "      <td>https://www.ncbi.nlm.nih.gov/pmc/articles/PMC5...</td>\n",
       "      <td>Surfactant protein-D (SP-D) is a member of the...</td>\n",
       "    </tr>\n",
       "    <tr>\n",
       "      <th>8</th>\n",
       "      <td>8qnrcgnk</td>\n",
       "      <td>faaf1022ccfe93b032c5608097a53543ba24aedb</td>\n",
       "      <td>Heme oxygenase-1 and carbon monoxide in pulmon...</td>\n",
       "      <td>10.1186/1465-9921-4-7</td>\n",
       "      <td>PMC193681</td>\n",
       "      <td>12964953</td>\n",
       "      <td>Heme oxygenase-1 (HO-1), an inducible stress p...</td>\n",
       "      <td>2003-08-07</td>\n",
       "      <td>Slebos, Dirk-Jan; Ryter, Stefan W; Choi, Augus...</td>\n",
       "      <td>Respir Res</td>\n",
       "      <td>document_parses/pmc_json/PMC193681.xml.json</td>\n",
       "      <td>https://www.ncbi.nlm.nih.gov/pmc/articles/PMC1...</td>\n",
       "      <td>The heme oxygenase-1/carbon monoxide (HO-1/CO)...</td>\n",
       "    </tr>\n",
       "    <tr>\n",
       "      <th>50</th>\n",
       "      <td>d3cko4j2</td>\n",
       "      <td>40500cd7ae5b4e116e8b13e5408e7dfd96d43ab4</td>\n",
       "      <td>From Functional Genomics to Functional Immunom...</td>\n",
       "      <td>10.1371/journal.pcbi.0020081</td>\n",
       "      <td>PMC1523295</td>\n",
       "      <td>16863395</td>\n",
       "      <td>The development of DNA microarray technology a...</td>\n",
       "      <td>2006-07-28</td>\n",
       "      <td>Braga-Neto, Ulisses M; Marques, Ernesto T. A</td>\n",
       "      <td>PLoS Comput Biol</td>\n",
       "      <td>document_parses/pmc_json/PMC1523295.xml.json</td>\n",
       "      <td>https://www.ncbi.nlm.nih.gov/pmc/articles/PMC1...</td>\n",
       "      <td>Functional genomics was made possible by the s...</td>\n",
       "    </tr>\n",
       "    <tr>\n",
       "      <th>55</th>\n",
       "      <td>j3p1u80n</td>\n",
       "      <td>4c84dbfd01f7b2009ebed54376da8afcbcf1ec64</td>\n",
       "      <td>Model-Based Design of Growth-Attenuated Viruses</td>\n",
       "      <td>10.1371/journal.pcbi.0020116</td>\n",
       "      <td>PMC1557587</td>\n",
       "      <td>16948530</td>\n",
       "      <td>Live-virus vaccines activate both humoral and ...</td>\n",
       "      <td>2006-09-01</td>\n",
       "      <td>Lim, Kwang-il; Lang, Tobias; Lam, Vy; Yin, John</td>\n",
       "      <td>PLoS Comput Biol</td>\n",
       "      <td>document_parses/pmc_json/PMC1557587.xml.json</td>\n",
       "      <td>https://www.ncbi.nlm.nih.gov/pmc/articles/PMC1...</td>\n",
       "      <td>Infections caused by viruses persistently thre...</td>\n",
       "    </tr>\n",
       "    <tr>\n",
       "      <th>59</th>\n",
       "      <td>pk7pnmlo</td>\n",
       "      <td>61d9a0fe39f4e845c44a06787de6f5f033b998a3</td>\n",
       "      <td>An object simulation model for modeling hypoth...</td>\n",
       "      <td>10.1186/1742-4682-3-32</td>\n",
       "      <td>PMC1570461</td>\n",
       "      <td>16928271</td>\n",
       "      <td>BACKGROUND: EpiFlex is a flexible, easy to use...</td>\n",
       "      <td>2006-08-23</td>\n",
       "      <td>Hanley, Brian</td>\n",
       "      <td>Theor Biol Med Model</td>\n",
       "      <td>document_parses/pmc_json/PMC1570461.xml.json</td>\n",
       "      <td>https://www.ncbi.nlm.nih.gov/pmc/articles/PMC1...</td>\n",
       "      <td>This work is related to several threads within...</td>\n",
       "    </tr>\n",
       "  </tbody>\n",
       "</table>\n",
       "</div>"
      ],
      "text/plain": [
       "    cord_uid                                       sha  \\\n",
       "2   ejv2xln0  06ced00a5fc04215949aa72528f2eeaae1d58927   \n",
       "8   8qnrcgnk  faaf1022ccfe93b032c5608097a53543ba24aedb   \n",
       "50  d3cko4j2  40500cd7ae5b4e116e8b13e5408e7dfd96d43ab4   \n",
       "55  j3p1u80n  4c84dbfd01f7b2009ebed54376da8afcbcf1ec64   \n",
       "59  pk7pnmlo  61d9a0fe39f4e845c44a06787de6f5f033b998a3   \n",
       "\n",
       "                                                title  \\\n",
       "2     Surfactant protein-D and pulmonary host defense   \n",
       "8   Heme oxygenase-1 and carbon monoxide in pulmon...   \n",
       "50  From Functional Genomics to Functional Immunom...   \n",
       "55    Model-Based Design of Growth-Attenuated Viruses   \n",
       "59  An object simulation model for modeling hypoth...   \n",
       "\n",
       "                             doi       pmcid pubmed_id  \\\n",
       "2                   10.1186/rr19    PMC59549  11667972   \n",
       "8          10.1186/1465-9921-4-7   PMC193681  12964953   \n",
       "50  10.1371/journal.pcbi.0020081  PMC1523295  16863395   \n",
       "55  10.1371/journal.pcbi.0020116  PMC1557587  16948530   \n",
       "59        10.1186/1742-4682-3-32  PMC1570461  16928271   \n",
       "\n",
       "                                             abstract publish_time  \\\n",
       "2   Surfactant protein-D (SP-D) participates in th...   2000-08-25   \n",
       "8   Heme oxygenase-1 (HO-1), an inducible stress p...   2003-08-07   \n",
       "50  The development of DNA microarray technology a...   2006-07-28   \n",
       "55  Live-virus vaccines activate both humoral and ...   2006-09-01   \n",
       "59  BACKGROUND: EpiFlex is a flexible, easy to use...   2006-08-23   \n",
       "\n",
       "                                              authors               journal  \\\n",
       "2                                     Crouch, Erika C            Respir Res   \n",
       "8   Slebos, Dirk-Jan; Ryter, Stefan W; Choi, Augus...            Respir Res   \n",
       "50       Braga-Neto, Ulisses M; Marques, Ernesto T. A      PLoS Comput Biol   \n",
       "55    Lim, Kwang-il; Lang, Tobias; Lam, Vy; Yin, John      PLoS Comput Biol   \n",
       "59                                      Hanley, Brian  Theor Biol Med Model   \n",
       "\n",
       "                                  pmc_json_files  \\\n",
       "2     document_parses/pmc_json/PMC59549.xml.json   \n",
       "8    document_parses/pmc_json/PMC193681.xml.json   \n",
       "50  document_parses/pmc_json/PMC1523295.xml.json   \n",
       "55  document_parses/pmc_json/PMC1557587.xml.json   \n",
       "59  document_parses/pmc_json/PMC1570461.xml.json   \n",
       "\n",
       "                                                  url  \\\n",
       "2   https://www.ncbi.nlm.nih.gov/pmc/articles/PMC5...   \n",
       "8   https://www.ncbi.nlm.nih.gov/pmc/articles/PMC1...   \n",
       "50  https://www.ncbi.nlm.nih.gov/pmc/articles/PMC1...   \n",
       "55  https://www.ncbi.nlm.nih.gov/pmc/articles/PMC1...   \n",
       "59  https://www.ncbi.nlm.nih.gov/pmc/articles/PMC1...   \n",
       "\n",
       "                                      full_literature  \n",
       "2   Surfactant protein-D (SP-D) is a member of the...  \n",
       "8   The heme oxygenase-1/carbon monoxide (HO-1/CO)...  \n",
       "50  Functional genomics was made possible by the s...  \n",
       "55  Infections caused by viruses persistently thre...  \n",
       "59  This work is related to several threads within...  "
      ]
     },
     "execution_count": 78,
     "metadata": {},
     "output_type": "execute_result"
    }
   ],
   "source": [
    "work_metadata.head()"
   ]
  },
  {
   "cell_type": "markdown",
   "metadata": {},
   "source": [
    "__Export metadata to work_metadata.csv for the corresponding work_data.csv file__"
   ]
  },
  {
   "cell_type": "code",
   "execution_count": 79,
   "metadata": {},
   "outputs": [],
   "source": [
    "work_metadata.to_csv('work_metadata.csv', index=False)"
   ]
  },
  {
   "cell_type": "markdown",
   "metadata": {},
   "source": [
    "# Finally we have two workable csv files\n",
    "* One : work_data.csv : contains full literature for clustering\n",
    "* Two : work_metadata.csv : contains metadata for the full literature"
   ]
  },
  {
   "cell_type": "code",
   "execution_count": null,
   "metadata": {},
   "outputs": [],
   "source": []
  }
 ],
 "metadata": {
  "kernelspec": {
   "display_name": "Python 3",
   "language": "python",
   "name": "python3"
  },
  "language_info": {
   "codemirror_mode": {
    "name": "ipython",
    "version": 3
   },
   "file_extension": ".py",
   "mimetype": "text/x-python",
   "name": "python",
   "nbconvert_exporter": "python",
   "pygments_lexer": "ipython3",
   "version": "3.8.5"
  }
 },
 "nbformat": 4,
 "nbformat_minor": 4
}
